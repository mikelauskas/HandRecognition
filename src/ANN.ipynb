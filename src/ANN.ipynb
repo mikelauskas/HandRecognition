{
 "cells": [
  {
   "cell_type": "markdown",
   "metadata": {},
   "source": [
    "# ANN for hand gesture recognition"
   ]
  },
  {
   "cell_type": "code",
   "execution_count": null,
   "metadata": {},
   "outputs": [],
   "source": [
    "# This jupyter notebook allows to load the data from the \"data\" folder. \n",
    "# To neural network are then trained on this data and the performances\n",
    "# of these models are shown in the comparison section.\n",
    "# The models can then be used in live in the last section.\n",
    "\n",
    "# Requirements:\n",
    "# !pip install keras\n",
    "# !pip install tensorflow\n",
    "# !pip install opencv-python"
   ]
  },
  {
   "cell_type": "code",
   "execution_count": 1,
   "metadata": {
    "scrolled": true
   },
   "outputs": [
    {
     "name": "stderr",
     "output_type": "stream",
     "text": [
      "C:\\Users\\Florian\\Anaconda3\\lib\\site-packages\\h5py\\__init__.py:36: FutureWarning: Conversion of the second argument of issubdtype from `float` to `np.floating` is deprecated. In future, it will be treated as `np.float64 == np.dtype(float).type`.\n",
      "  from ._conv import register_converters as _register_converters\n",
      "Using TensorFlow backend.\n"
     ]
    }
   ],
   "source": [
    "from image import Image\n",
    "\n",
    "import numpy as np\n",
    "import matplotlib.pyplot as plt\n",
    "\n",
    "from keras.models import Sequential\n",
    "from keras.layers import Dense, Conv2D, MaxPooling2D, Flatten, Dropout, MaxPool2D\n",
    "from keras.utils import np_utils\n",
    "from keras.callbacks import EarlyStopping, ModelCheckpoint\n",
    "\n",
    "from tensorflow.python.client import device_lib\n",
    "import tensorflow as tf\n",
    "\n",
    "from sklearn.model_selection import train_test_split"
   ]
  },
  {
   "cell_type": "markdown",
   "metadata": {},
   "source": [
    "#### Load images and labels, split the train and test datasets"
   ]
  },
  {
   "cell_type": "code",
   "execution_count": 2,
   "metadata": {},
   "outputs": [],
   "source": [
    "# load the training set of images with their number of finger( labels ) \n",
    "# each element of image is a 25*25 array of values between 0 and 255\n",
    "images, labels = Image.load_images(\"data\", flatten=True)\n"
   ]
  },
  {
   "cell_type": "code",
   "execution_count": 3,
   "metadata": {},
   "outputs": [],
   "source": [
    "# shuffle the dataset (images and corresponding labels) and divide it in a train set (75% of dataset )and a test set (25% of dataset)\n",
    "X_train, X_test, Y_train, Y_test = train_test_split(images, labels, random_state=15, shuffle=True, test_size=.25)"
   ]
  },
  {
   "cell_type": "markdown",
   "metadata": {},
   "source": [
    "#### Normalize the data and transform labels into categorical values"
   ]
  },
  {
   "cell_type": "code",
   "execution_count": 4,
   "metadata": {},
   "outputs": [],
   "source": [
    "# normalizing the values by dividing the grayscale by 255 (the maximum value)\n",
    "X_train = X_train.astype('float32') / 255\n",
    "X_test = X_test.astype('float32') / 255"
   ]
  },
  {
   "cell_type": "code",
   "execution_count": 5,
   "metadata": {},
   "outputs": [],
   "source": [
    "# transform integers into array with 1 at index integer and zero at others\n",
    "Y_train = np_utils.to_categorical(Y_train)\n",
    "Y_test = np_utils.to_categorical(Y_test)\n"
   ]
  },
  {
   "cell_type": "code",
   "execution_count": 6,
   "metadata": {},
   "outputs": [],
   "source": [
    "num_pixels = X_train.shape[1] # number of pixel on one image\n",
    "num_classes = Y_test.shape[1] # number of possible fingers"
   ]
  },
  {
   "cell_type": "markdown",
   "metadata": {},
   "source": [
    "#### Build the model"
   ]
  },
  {
   "cell_type": "code",
   "execution_count": 7,
   "metadata": {},
   "outputs": [],
   "source": [
    "def ANN():\n",
    "  # create model with 1 hidden layer\n",
    "    model = Sequential()\n",
    "    #Input and hidden layer\n",
    "    model.add(Dense(num_pixels, input_dim=num_pixels, kernel_initializer='normal', activation='relu'))\n",
    "    model.add(Dropout(.5))\n",
    "    #Output layer\n",
    "    model.add(Dense(num_classes, kernel_initializer='normal', activation='softmax'))\n",
    "    # Compile model\n",
    "    model.compile(loss='categorical_crossentropy', \n",
    "                optimizer='adam', metrics=['accuracy']) \n",
    "    return model"
   ]
  },
  {
   "cell_type": "code",
   "execution_count": 8,
   "metadata": {},
   "outputs": [],
   "source": [
    "def ANN_2():\n",
    "  # create model with 2 hidden layer\n",
    "    model = Sequential()\n",
    "    #Input and hidden layer\n",
    "    model.add(Dense(num_pixels, input_dim=num_pixels, kernel_initializer='normal', activation='relu'))\n",
    "    model.add(Dropout(.5))\n",
    "    #adding one more layer\n",
    "    model.add(Dense(128,  kernel_initializer='normal', activation='relu'))\n",
    "    model.add(Dropout(.5))\n",
    "    #Output layer\n",
    "    model.add(Dense(num_classes, kernel_initializer='normal', activation='softmax'))\n",
    "    # Compile model\n",
    "    model.compile(loss='categorical_crossentropy', \n",
    "                optimizer='adam', metrics=['accuracy']) \n",
    "    return model"
   ]
  },
  {
   "cell_type": "markdown",
   "metadata": {},
   "source": [
    "#### Train the model"
   ]
  },
  {
   "cell_type": "code",
   "execution_count": 9,
   "metadata": {
    "scrolled": true
   },
   "outputs": [
    {
     "name": "stdout",
     "output_type": "stream",
     "text": [
      "Train on 4480 samples, validate on 1494 samples\n",
      "Epoch 1/50\n",
      " - 7s - loss: 6.5861 - acc: 0.3069 - val_loss: 5.3483 - val_acc: 0.4552\n",
      "Epoch 2/50\n",
      " - 8s - loss: 4.7659 - acc: 0.4676 - val_loss: 3.2348 - val_acc: 0.5783\n",
      "Epoch 3/50\n",
      " - 6s - loss: 2.3997 - acc: 0.5661 - val_loss: 1.0295 - val_acc: 0.6714\n",
      "Epoch 4/50\n",
      " - 6s - loss: 0.7727 - acc: 0.7241 - val_loss: 0.6282 - val_acc: 0.7932\n",
      "Epoch 5/50\n",
      " - 6s - loss: 0.5246 - acc: 0.8270 - val_loss: 0.5279 - val_acc: 0.8360\n",
      "Epoch 6/50\n",
      " - 6s - loss: 0.3972 - acc: 0.8721 - val_loss: 0.4568 - val_acc: 0.8487\n",
      "Epoch 7/50\n",
      " - 6s - loss: 0.3123 - acc: 0.9029 - val_loss: 0.3946 - val_acc: 0.8715\n",
      "Epoch 8/50\n",
      " - 6s - loss: 0.2560 - acc: 0.9239 - val_loss: 0.3492 - val_acc: 0.8909\n",
      "Epoch 9/50\n",
      " - 6s - loss: 0.2022 - acc: 0.9453 - val_loss: 0.3325 - val_acc: 0.8909\n",
      "Epoch 10/50\n",
      " - 6s - loss: 0.1731 - acc: 0.9536 - val_loss: 0.3127 - val_acc: 0.9003\n",
      "Epoch 11/50\n",
      " - 6s - loss: 0.1407 - acc: 0.9641 - val_loss: 0.3030 - val_acc: 0.9009\n",
      "Epoch 12/50\n",
      " - 6s - loss: 0.1267 - acc: 0.9685 - val_loss: 0.2706 - val_acc: 0.9096\n",
      "Epoch 13/50\n",
      " - 6s - loss: 0.1007 - acc: 0.9790 - val_loss: 0.2619 - val_acc: 0.9197\n",
      "Epoch 14/50\n",
      " - 6s - loss: 0.0894 - acc: 0.9817 - val_loss: 0.2543 - val_acc: 0.9210\n",
      "Epoch 15/50\n",
      " - 6s - loss: 0.0810 - acc: 0.9819 - val_loss: 0.2688 - val_acc: 0.9083\n",
      "Epoch 16/50\n",
      " - 6s - loss: 0.0767 - acc: 0.9835 - val_loss: 0.2517 - val_acc: 0.9217\n",
      "Epoch 17/50\n",
      " - 7s - loss: 0.0614 - acc: 0.9893 - val_loss: 0.2558 - val_acc: 0.9250\n",
      "Epoch 18/50\n",
      " - 7s - loss: 0.0525 - acc: 0.9893 - val_loss: 0.2403 - val_acc: 0.9183\n",
      "Epoch 19/50\n",
      " - 7s - loss: 0.0454 - acc: 0.9940 - val_loss: 0.2395 - val_acc: 0.9210\n",
      "Epoch 20/50\n",
      " - 6s - loss: 0.0400 - acc: 0.9938 - val_loss: 0.2455 - val_acc: 0.9244\n",
      "Epoch 21/50\n",
      " - 7s - loss: 0.0389 - acc: 0.9926 - val_loss: 0.2468 - val_acc: 0.9270\n",
      "Epoch 22/50\n",
      " - 8s - loss: 0.0370 - acc: 0.9942 - val_loss: 0.2215 - val_acc: 0.9357\n",
      "Epoch 23/50\n",
      " - 7s - loss: 0.0339 - acc: 0.9951 - val_loss: 0.2377 - val_acc: 0.9277\n",
      "Epoch 24/50\n",
      " - 6s - loss: 0.0334 - acc: 0.9958 - val_loss: 0.2144 - val_acc: 0.9331\n",
      "Epoch 25/50\n",
      " - 6s - loss: 0.0275 - acc: 0.9962 - val_loss: 0.2270 - val_acc: 0.9304\n",
      "Epoch 26/50\n",
      " - 6s - loss: 0.0237 - acc: 0.9978 - val_loss: 0.2291 - val_acc: 0.9284\n",
      "Epoch 27/50\n",
      " - 6s - loss: 0.0219 - acc: 0.9975 - val_loss: 0.2212 - val_acc: 0.9311\n",
      "Epoch 28/50\n",
      " - 6s - loss: 0.0240 - acc: 0.9964 - val_loss: 0.2062 - val_acc: 0.9357\n",
      "Epoch 29/50\n",
      " - 7s - loss: 0.0200 - acc: 0.9967 - val_loss: 0.2313 - val_acc: 0.9331\n",
      "Epoch 30/50\n",
      " - 6s - loss: 0.0191 - acc: 0.9969 - val_loss: 0.2166 - val_acc: 0.9331\n",
      "Epoch 31/50\n",
      " - 6s - loss: 0.0185 - acc: 0.9973 - val_loss: 0.2200 - val_acc: 0.9357\n",
      "Epoch 32/50\n",
      " - 7s - loss: 0.0200 - acc: 0.9971 - val_loss: 0.2125 - val_acc: 0.9317\n",
      "Epoch 33/50\n",
      " - 6s - loss: 0.0135 - acc: 0.9989 - val_loss: 0.2166 - val_acc: 0.9277\n",
      "Epoch 34/50\n",
      " - 6s - loss: 0.0116 - acc: 0.9991 - val_loss: 0.2251 - val_acc: 0.9344\n",
      "Epoch 35/50\n",
      " - 6s - loss: 0.0121 - acc: 0.9993 - val_loss: 0.2229 - val_acc: 0.9364\n",
      "Epoch 36/50\n",
      " - 6s - loss: 0.0114 - acc: 0.9982 - val_loss: 0.2223 - val_acc: 0.9351\n",
      "Epoch 37/50\n",
      " - 7s - loss: 0.0107 - acc: 0.9991 - val_loss: 0.2186 - val_acc: 0.9337\n",
      "Epoch 38/50\n",
      " - 6s - loss: 0.0121 - acc: 0.9987 - val_loss: 0.2304 - val_acc: 0.9317\n",
      "Epoch 39/50\n",
      " - 7s - loss: 0.0110 - acc: 0.9993 - val_loss: 0.2342 - val_acc: 0.9277\n",
      "Epoch 40/50\n",
      " - 7s - loss: 0.0122 - acc: 0.9989 - val_loss: 0.2143 - val_acc: 0.9384\n",
      "Epoch 41/50\n",
      " - 8s - loss: 0.0091 - acc: 0.9996 - val_loss: 0.2189 - val_acc: 0.9337\n",
      "Epoch 42/50\n",
      " - 8s - loss: 0.0105 - acc: 0.9978 - val_loss: 0.2271 - val_acc: 0.9304\n",
      "Epoch 43/50\n",
      " - 8s - loss: 0.0109 - acc: 0.9989 - val_loss: 0.2192 - val_acc: 0.9297\n",
      "Epoch 44/50\n",
      " - 7s - loss: 0.0098 - acc: 0.9989 - val_loss: 0.2158 - val_acc: 0.9351\n",
      "Epoch 45/50\n",
      " - 7s - loss: 0.0076 - acc: 0.9993 - val_loss: 0.2204 - val_acc: 0.9344\n",
      "Epoch 46/50\n",
      " - 8s - loss: 0.0076 - acc: 0.9991 - val_loss: 0.2261 - val_acc: 0.9357\n",
      "Epoch 47/50\n",
      " - 8s - loss: 0.0079 - acc: 0.9989 - val_loss: 0.2376 - val_acc: 0.9337\n",
      "Epoch 48/50\n",
      " - 7s - loss: 0.0122 - acc: 0.9982 - val_loss: 0.2646 - val_acc: 0.9244\n",
      "Epoch 49/50\n",
      " - 7s - loss: 0.0121 - acc: 0.9978 - val_loss: 0.2462 - val_acc: 0.9270\n",
      "Epoch 50/50\n",
      " - 7s - loss: 0.0108 - acc: 0.9991 - val_loss: 0.2340 - val_acc: 0.9317\n",
      "Final accuracy: 93.17%\n",
      "Baseline Error: 6.83%\n"
     ]
    }
   ],
   "source": [
    "# Training of the model with 1 hidden layer\n",
    "# The model is fit over 10 epochs with updates every 200 images.\n",
    "\n",
    "# build the model\n",
    "model = ANN()\n",
    "\n",
    "# Fit the model\n",
    "#The test data is used as the validation dataset, allowing you to see the skill of the model as it trains.\n",
    "hist = model.fit(X_train, Y_train, validation_data=(X_test, Y_test), epochs=50, batch_size=200, verbose=2)\n",
    "\n",
    "\n",
    "# Final evaluation of the model\n",
    "scores = model.evaluate(X_test, Y_test, verbose=0)\n",
    "print(\"Final accuracy: %.2f%%\" % (scores[1]*100))\n",
    "print(\"Baseline Error: %.2f%%\" % (100-scores[1]*100))"
   ]
  },
  {
   "cell_type": "code",
   "execution_count": 10,
   "metadata": {
    "scrolled": true
   },
   "outputs": [
    {
     "name": "stdout",
     "output_type": "stream",
     "text": [
      "Train on 4480 samples, validate on 1494 samples\n",
      "Epoch 1/50\n",
      " - 10s - loss: 1.8460 - acc: 0.2598 - val_loss: 1.5733 - val_acc: 0.3842\n",
      "Epoch 2/50\n",
      " - 7s - loss: 1.5945 - acc: 0.3366 - val_loss: 1.4281 - val_acc: 0.4525\n",
      "Epoch 3/50\n",
      " - 7s - loss: 1.4354 - acc: 0.4136 - val_loss: 1.2147 - val_acc: 0.5515\n",
      "Epoch 4/50\n",
      " - 7s - loss: 1.2903 - acc: 0.4842 - val_loss: 1.0716 - val_acc: 0.6218\n",
      "Epoch 5/50\n",
      " - 7s - loss: 1.1542 - acc: 0.5391 - val_loss: 0.9410 - val_acc: 0.6841\n",
      "Epoch 6/50\n",
      " - 7s - loss: 1.0287 - acc: 0.5933 - val_loss: 0.8183 - val_acc: 0.7102\n",
      "Epoch 7/50\n",
      " - 7s - loss: 0.9063 - acc: 0.6429 - val_loss: 0.7122 - val_acc: 0.7597\n",
      "Epoch 8/50\n",
      " - 7s - loss: 0.8297 - acc: 0.6897 - val_loss: 0.6347 - val_acc: 0.7851\n",
      "Epoch 9/50\n",
      " - 7s - loss: 0.7450 - acc: 0.7147 - val_loss: 0.5565 - val_acc: 0.8079\n",
      "Epoch 10/50\n",
      " - 8s - loss: 0.6762 - acc: 0.7406 - val_loss: 0.5226 - val_acc: 0.8079\n",
      "Epoch 11/50\n",
      " - 8s - loss: 0.5777 - acc: 0.7846 - val_loss: 0.4648 - val_acc: 0.8400\n",
      "Epoch 12/50\n",
      " - 9s - loss: 0.5313 - acc: 0.8112 - val_loss: 0.4450 - val_acc: 0.8414\n",
      "Epoch 13/50\n",
      " - 7s - loss: 0.4865 - acc: 0.8217 - val_loss: 0.3995 - val_acc: 0.8608\n",
      "Epoch 14/50\n",
      " - 7s - loss: 0.4276 - acc: 0.8411 - val_loss: 0.3762 - val_acc: 0.8661\n",
      "Epoch 15/50\n",
      " - 7s - loss: 0.3858 - acc: 0.8612 - val_loss: 0.3326 - val_acc: 0.8889\n",
      "Epoch 16/50\n",
      " - 8s - loss: 0.3467 - acc: 0.8725 - val_loss: 0.3021 - val_acc: 0.8869\n",
      "Epoch 17/50\n",
      " - 7s - loss: 0.3073 - acc: 0.8897 - val_loss: 0.2941 - val_acc: 0.9023\n",
      "Epoch 18/50\n",
      " - 7s - loss: 0.2946 - acc: 0.8944 - val_loss: 0.2713 - val_acc: 0.9103\n",
      "Epoch 19/50\n",
      " - 6s - loss: 0.2584 - acc: 0.9056 - val_loss: 0.3018 - val_acc: 0.9016\n",
      "Epoch 20/50\n",
      " - 7s - loss: 0.2447 - acc: 0.9123 - val_loss: 0.2481 - val_acc: 0.9203\n",
      "Epoch 21/50\n",
      " - 7s - loss: 0.2208 - acc: 0.9196 - val_loss: 0.2652 - val_acc: 0.9130\n",
      "Epoch 22/50\n",
      " - 7s - loss: 0.1940 - acc: 0.9317 - val_loss: 0.2427 - val_acc: 0.9224\n",
      "Epoch 23/50\n",
      " - 7s - loss: 0.1880 - acc: 0.9359 - val_loss: 0.2580 - val_acc: 0.9177\n",
      "Epoch 24/50\n",
      " - 6s - loss: 0.1732 - acc: 0.9400 - val_loss: 0.2596 - val_acc: 0.9177\n",
      "Epoch 25/50\n",
      " - 6s - loss: 0.1588 - acc: 0.9458 - val_loss: 0.2293 - val_acc: 0.9290\n",
      "Epoch 26/50\n",
      " - 6s - loss: 0.1403 - acc: 0.9504 - val_loss: 0.2367 - val_acc: 0.9351\n",
      "Epoch 27/50\n",
      " - 6s - loss: 0.1503 - acc: 0.9482 - val_loss: 0.2295 - val_acc: 0.9277\n",
      "Epoch 28/50\n",
      " - 6s - loss: 0.1330 - acc: 0.9565 - val_loss: 0.2170 - val_acc: 0.9351\n",
      "Epoch 29/50\n",
      " - 6s - loss: 0.1217 - acc: 0.9569 - val_loss: 0.2105 - val_acc: 0.9351\n",
      "Epoch 30/50\n",
      " - 7s - loss: 0.1152 - acc: 0.9600 - val_loss: 0.2067 - val_acc: 0.9398\n",
      "Epoch 31/50\n",
      " - 7s - loss: 0.0991 - acc: 0.9645 - val_loss: 0.2240 - val_acc: 0.9331\n",
      "Epoch 32/50\n",
      " - 7s - loss: 0.0907 - acc: 0.9701 - val_loss: 0.2340 - val_acc: 0.9337\n",
      "Epoch 33/50\n",
      " - 7s - loss: 0.1001 - acc: 0.9652 - val_loss: 0.2208 - val_acc: 0.9337\n",
      "Epoch 34/50\n",
      " - 7s - loss: 0.1013 - acc: 0.9663 - val_loss: 0.2194 - val_acc: 0.9351\n",
      "Epoch 35/50\n",
      " - 6s - loss: 0.1193 - acc: 0.9632 - val_loss: 0.2322 - val_acc: 0.9331\n",
      "Epoch 36/50\n",
      " - 6s - loss: 0.0971 - acc: 0.9676 - val_loss: 0.2306 - val_acc: 0.9411\n",
      "Epoch 37/50\n",
      " - 6s - loss: 0.0822 - acc: 0.9728 - val_loss: 0.2346 - val_acc: 0.9324\n",
      "Epoch 38/50\n",
      " - 6s - loss: 0.0861 - acc: 0.9701 - val_loss: 0.2138 - val_acc: 0.9371\n",
      "Epoch 39/50\n",
      " - 6s - loss: 0.0795 - acc: 0.9754 - val_loss: 0.2040 - val_acc: 0.9398\n",
      "Epoch 40/50\n",
      " - 6s - loss: 0.0709 - acc: 0.9770 - val_loss: 0.2187 - val_acc: 0.9371\n",
      "Epoch 41/50\n",
      " - 6s - loss: 0.0611 - acc: 0.9819 - val_loss: 0.2078 - val_acc: 0.9404\n",
      "Epoch 42/50\n",
      " - 6s - loss: 0.0630 - acc: 0.9788 - val_loss: 0.2235 - val_acc: 0.9378\n",
      "Epoch 43/50\n",
      " - 6s - loss: 0.0703 - acc: 0.9754 - val_loss: 0.2278 - val_acc: 0.9444\n",
      "Epoch 44/50\n",
      " - 6s - loss: 0.0617 - acc: 0.9808 - val_loss: 0.2359 - val_acc: 0.9418\n",
      "Epoch 45/50\n",
      " - 6s - loss: 0.0577 - acc: 0.9813 - val_loss: 0.2325 - val_acc: 0.9424\n",
      "Epoch 46/50\n",
      " - 6s - loss: 0.0671 - acc: 0.9777 - val_loss: 0.1950 - val_acc: 0.9438\n",
      "Epoch 47/50\n",
      " - 7s - loss: 0.0563 - acc: 0.9792 - val_loss: 0.2404 - val_acc: 0.9364\n",
      "Epoch 48/50\n",
      " - 6s - loss: 0.0640 - acc: 0.9779 - val_loss: 0.2165 - val_acc: 0.9444\n",
      "Epoch 49/50\n",
      " - 6s - loss: 0.0693 - acc: 0.9806 - val_loss: 0.2010 - val_acc: 0.9465\n",
      "Epoch 50/50\n",
      " - 7s - loss: 0.0667 - acc: 0.9795 - val_loss: 0.2229 - val_acc: 0.9418\n",
      "Final accuracy: 94.18%\n",
      "Baseline Error: 5.82%\n"
     ]
    }
   ],
   "source": [
    "# Training of the model with 2 hidden layers\n",
    "# The model is fit over 10 epochs with updates every 200 images.\n",
    "\n",
    "# build the model\n",
    "model_2 = ANN_2()\n",
    "# Fit the model\n",
    "hist_2 = model_2.fit(X_train, Y_train, validation_data=(X_test, Y_test), epochs=50, batch_size=200, verbose=2)\n",
    "# The test data is used as the validation dataset, allowing you to see the skill of the model as it trains.\n",
    "\n",
    "# Final evaluation of the model\n",
    "scores = model_2.evaluate(X_test, Y_test, verbose=0)\n",
    "print(\"Final accuracy: %.2f%%\" % (scores[1]*100))\n",
    "print(\"Baseline Error: %.2f%%\" % (100-scores[1]*100))"
   ]
  },
  {
   "cell_type": "markdown",
   "metadata": {},
   "source": [
    "#### Use the model for prediction on another dataset"
   ]
  },
  {
   "cell_type": "code",
   "execution_count": 11,
   "metadata": {},
   "outputs": [],
   "source": [
    "# load data from a new dataset and use the fitted model to get the number of finger on each picture\n",
    "X_val, Y_val = Image.load_images(\"data_test\", flatten=True)\n",
    "\n",
    "#prepare data\n",
    "X_val = X_val.astype('float32') / 255\n",
    "Y_val = np_utils.to_categorical(Y_val)"
   ]
  },
  {
   "cell_type": "code",
   "execution_count": 12,
   "metadata": {},
   "outputs": [],
   "source": [
    "# compute predictions using our models\n",
    "Y_predict = model.predict(X_val)\n",
    "Y_predict_2 = model_2.predict(X_val)"
   ]
  },
  {
   "cell_type": "code",
   "execution_count": 13,
   "metadata": {},
   "outputs": [
    {
     "name": "stdout",
     "output_type": "stream",
     "text": [
      "Accuracy with the 1st model : 63.64%\n",
      "Accuracy with the 2nd model : 61.29%\n"
     ]
    }
   ],
   "source": [
    "# compute and display the accuracy of our models by comparing predicted and real values\n",
    "accuracy = sum(Y_predict.argmax(axis=1) == Y_val.argmax(axis=1)) / Y_val.shape[0]\n",
    "accuracy_2 = sum(Y_predict_2.argmax(axis=1) == Y_val.argmax(axis=1)) / Y_val.shape[0]\n",
    "print(\"Accuracy with the 1st model : %.2f%%\" % (accuracy*100))\n",
    "print(\"Accuracy with the 2nd model : %.2f%%\" % (accuracy_2*100))"
   ]
  },
  {
   "cell_type": "code",
   "execution_count": null,
   "metadata": {},
   "outputs": [],
   "source": []
  },
  {
   "cell_type": "markdown",
   "metadata": {},
   "source": [
    "#### Comparison of the model with 1 and 2 hidden layers"
   ]
  },
  {
   "cell_type": "code",
   "execution_count": 14,
   "metadata": {
    "scrolled": false
   },
   "outputs": [
    {
     "data": {
      "image/png": "[encoded data removed]",
      "text/plain": [
       "<Figure size 1080x504 with 2 Axes>"
      ]
     },
     "metadata": {},
     "output_type": "display_data"
    }
   ],
   "source": [
    "# Plot of the evolution of the accuracy \n",
    "fig = plt.figure(figsize=(15, 7))\n",
    "ax1 = fig.add_subplot(1, 2, 1)\n",
    "ax2 = fig.add_subplot(1, 2, 2)\n",
    "\n",
    "#accuracy with model1\n",
    "\n",
    "# accuracy improvements during training of the model\n",
    "ax1.plot(hist.history['acc'], label='Acc.')\n",
    "ax1.plot(hist.history['val_acc'], label='Validation acc.')\n",
    "\n",
    "# accuracy of the predictions with an other dataset ( doesn't depend on the training step because the model is already trained)\n",
    "ax1.axhline(accuracy, ls='--', c='r', label='Test acc.')\n",
    "\n",
    "ax1.set_ylim([0,1])\n",
    "ax1.set_xlabel('Training step')\n",
    "ax1.set_ylabel('Accuracy')\n",
    "ax1.set_title('ANN with 1 hidden layer')\n",
    "ax1.legend()\n",
    "\n",
    "\n",
    "\n",
    "#accuracy with model2\n",
    "\n",
    "# accuracy improvements during training of the model\n",
    "ax2.plot(hist_2.history['acc'], label='acc')\n",
    "ax2.plot(hist_2.history['val_acc'], label='Validation acc.')\n",
    "\n",
    "# accuracy of the predictions with an other dataset ( doesn't depend on the training step because the model is already trained)\n",
    "ax2.axhline(accuracy_2, ls='--', c='r', label='Test acc.')\n",
    "\n",
    "\n",
    "ax2.set_ylim([0,1])\n",
    "ax2.set_xlabel('Training step')\n",
    "ax2.set_ylabel('Accuracy')\n",
    "ax2.set_title('ANN with 2 hidden layers')\n",
    "ax2.legend()\n",
    "\n",
    "plt.show()"
   ]
  },
  {
   "cell_type": "markdown",
   "metadata": {},
   "source": [
    "We can see that we have a similar accuracy for both models. The loss of accuracy between the train and validation datasets and the test datasets can be explained by an overfitting of the model in both case. Th addition of dropouts in the models reduced this overfitting, but it could be improved by performing slightly variations (rotation, shifting, zoom…) on the original data thanks to method such as ImageDataGenerator() of the keras library."
   ]
  },
  {
   "cell_type": "markdown",
   "metadata": {},
   "source": [
    "#### Live test"
   ]
  },
  {
   "cell_type": "markdown",
   "metadata": {},
   "source": [
    "At the end of the live press SPACE before exiting to be able to run the last line."
   ]
  },
  {
   "cell_type": "code",
   "execution_count": null,
   "metadata": {},
   "outputs": [],
   "source": [
    "# Test the model with one hidden layer in live. Stay still for the prediction.\n",
    "# \n",
    "# Press B to select a background\n",
    "# Press SPACE to return an image\n",
    "# Press ESC to shut the window\n",
    "# Press R or L to move the window to the left or right\n",
    "# Press P or M to increase or decrease the size of the window\n",
    "\n",
    "img = Image.captureImage(model)"
   ]
  },
  {
   "cell_type": "code",
   "execution_count": null,
   "metadata": {
    "scrolled": true
   },
   "outputs": [],
   "source": [
    "# Returned image\n",
    "plt.imshow(img, cmap=plt.get_cmap('gray'))\n",
    "plt.show()\n",
    "print(\"Prediction :\", model.predict(np.array([img.flatten()])).argmax())"
   ]
  }
 ],
 "metadata": {
  "kernelspec": {
   "display_name": "Python 3",
   "language": "python",
   "name": "python3"
  },
  "language_info": {
   "codemirror_mode": {
    "name": "ipython",
    "version": 3
   },
   "file_extension": ".py",
   "mimetype": "text/x-python",
   "name": "python",
   "nbconvert_exporter": "python",
   "pygments_lexer": "ipython3",
   "version": "3.6.5"
  }
 },
 "nbformat": 4,
 "nbformat_minor": 2
}
