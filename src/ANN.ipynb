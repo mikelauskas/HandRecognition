{
 "cells": [
  {
   "cell_type": "code",
   "execution_count": 1,
   "metadata": {
    "scrolled": true
   },
   "outputs": [
    {
     "name": "stderr",
     "output_type": "stream",
     "text": [
      "C:\\Users\\Florian\\Anaconda3\\lib\\site-packages\\h5py\\__init__.py:36: FutureWarning: Conversion of the second argument of issubdtype from `float` to `np.floating` is deprecated. In future, it will be treated as `np.float64 == np.dtype(float).type`.\n",
      "  from ._conv import register_converters as _register_converters\n",
      "Using TensorFlow backend.\n"
     ]
    }
   ],
   "source": [
    "from image import Image\n",
    "\n",
    "import numpy as np\n",
    "import matplotlib.pyplot as plt\n",
    "\n",
    "from keras.models import Sequential\n",
    "from keras.layers import Dense, Conv2D, MaxPooling2D, Flatten, Dropout, MaxPool2D\n",
    "from keras.utils import np_utils\n",
    "from keras.callbacks import EarlyStopping, ModelCheckpoint\n",
    "\n",
    "from tensorflow.python.client import device_lib\n",
    "import tensorflow as tf\n",
    "\n",
    "from sklearn.model_selection import train_test_split"
   ]
  },
  {
   "cell_type": "markdown",
   "metadata": {},
   "source": [
    "## Simple ANN"
   ]
  },
  {
   "cell_type": "markdown",
   "metadata": {},
   "source": [
    "#### Load images and labels, split the train and test datasets"
   ]
  },
  {
   "cell_type": "code",
   "execution_count": 2,
   "metadata": {},
   "outputs": [],
   "source": [
    "images, labels = Image.load_images(\"data\", flatten=True)"
   ]
  },
  {
   "cell_type": "code",
   "execution_count": 3,
   "metadata": {},
   "outputs": [],
   "source": [
    "X_train, X_test, Y_train, Y_test = train_test_split(images, labels, random_state=10, shuffle=True, test_size=.25)"
   ]
  },
  {
   "cell_type": "markdown",
   "metadata": {},
   "source": [
    "#### Normalize the data and transform labels into categorical values"
   ]
  },
  {
   "cell_type": "code",
   "execution_count": 4,
   "metadata": {},
   "outputs": [],
   "source": [
    "X_train = X_train.astype('float32') / 255\n",
    "X_test = X_test.astype('float32') / 255"
   ]
  },
  {
   "cell_type": "code",
   "execution_count": 5,
   "metadata": {},
   "outputs": [],
   "source": [
    "Y_train = np_utils.to_categorical(Y_train)\n",
    "Y_test = np_utils.to_categorical(Y_test)"
   ]
  },
  {
   "cell_type": "code",
   "execution_count": 6,
   "metadata": {},
   "outputs": [],
   "source": [
    "num_pixels = X_train.shape[1]\n",
    "num_classes = Y_test.shape[1]"
   ]
  },
  {
   "cell_type": "markdown",
   "metadata": {},
   "source": [
    "#### Build the model"
   ]
  },
  {
   "cell_type": "code",
   "execution_count": 7,
   "metadata": {},
   "outputs": [],
   "source": [
    "def ANN():\n",
    "  # create model with 1 hidden layer\n",
    "    model = Sequential()\n",
    "    #Input and hidden layer\n",
    "    model.add(Dense(num_pixels, input_dim=num_pixels, kernel_initializer='normal', activation='relu'))\n",
    "    #Output layer\n",
    "    model.add(Dense(num_classes, kernel_initializer='normal', activation='softmax'))\n",
    "    # Compile model\n",
    "    model.compile(loss='categorical_crossentropy', \n",
    "                optimizer='adam', metrics=['accuracy']) \n",
    "    return model"
   ]
  },
  {
   "cell_type": "code",
   "execution_count": 46,
   "metadata": {},
   "outputs": [],
   "source": [
    "def ANN_2():\n",
    "  # create model with 2 hidden layer\n",
    "    model = Sequential()\n",
    "    #Input and hidden layer\n",
    "    model.add(Dense(num_pixels, input_dim=num_pixels, kernel_initializer='normal', activation='relu'))\n",
    "    #adding one more layer\n",
    "    model.add(Dense(100,  kernel_initializer='normal', activation='relu'))\n",
    "    #Output layer\n",
    "    model.add(Dense(num_classes, kernel_initializer='normal', activation='softmax'))\n",
    "    # Compile model\n",
    "    model.compile(loss='categorical_crossentropy', \n",
    "                optimizer='adam', metrics=['accuracy']) \n",
    "    return model"
   ]
  },
  {
   "cell_type": "markdown",
   "metadata": {},
   "source": [
    "#### Train the model"
   ]
  },
  {
   "cell_type": "code",
   "execution_count": 42,
   "metadata": {
    "scrolled": false
   },
   "outputs": [
    {
     "name": "stdout",
     "output_type": "stream",
     "text": [
      "Train on 2250 samples, validate on 750 samples\n",
      "Epoch 1/20\n",
      " - 22s - loss: 6.8864 - acc: 0.3533 - val_loss: 5.3664 - val_acc: 0.5040\n",
      "Epoch 2/20\n",
      " - 3s - loss: 4.0682 - acc: 0.5658 - val_loss: 3.2470 - val_acc: 0.6307\n",
      "Epoch 3/20\n",
      " - 3s - loss: 2.3213 - acc: 0.7267 - val_loss: 2.2794 - val_acc: 0.7760\n",
      "Epoch 4/20\n",
      " - 4s - loss: 1.7465 - acc: 0.8324 - val_loss: 1.7823 - val_acc: 0.8133\n",
      "Epoch 5/20\n",
      " - 3s - loss: 1.1197 - acc: 0.8604 - val_loss: 0.8127 - val_acc: 0.8253\n",
      "Epoch 6/20\n",
      " - 4s - loss: 0.4278 - acc: 0.9169 - val_loss: 0.4681 - val_acc: 0.9067\n",
      "Epoch 7/20\n",
      " - 3s - loss: 0.2454 - acc: 0.9596 - val_loss: 0.3390 - val_acc: 0.9347\n",
      "Epoch 8/20\n",
      " - 3s - loss: 0.1908 - acc: 0.9809 - val_loss: 0.3036 - val_acc: 0.9387\n",
      "Epoch 9/20\n",
      " - 3s - loss: 0.1637 - acc: 0.9884 - val_loss: 0.2567 - val_acc: 0.9520\n",
      "Epoch 10/20\n",
      " - 3s - loss: 0.1490 - acc: 0.9916 - val_loss: 0.2357 - val_acc: 0.9587\n",
      "Epoch 11/20\n",
      " - 4s - loss: 0.1431 - acc: 0.9920 - val_loss: 0.2316 - val_acc: 0.9587\n",
      "Epoch 12/20\n",
      " - 3s - loss: 0.1407 - acc: 0.9920 - val_loss: 0.2287 - val_acc: 0.9613\n",
      "Epoch 13/20\n",
      " - 3s - loss: 0.1389 - acc: 0.9920 - val_loss: 0.2264 - val_acc: 0.9627\n",
      "Epoch 14/20\n",
      " - 3s - loss: 0.1377 - acc: 0.9920 - val_loss: 0.2268 - val_acc: 0.9600\n",
      "Epoch 15/20\n",
      " - 3s - loss: 0.1367 - acc: 0.9920 - val_loss: 0.2251 - val_acc: 0.9600\n",
      "Epoch 16/20\n",
      " - 3s - loss: 0.1359 - acc: 0.9920 - val_loss: 0.2239 - val_acc: 0.9600\n",
      "Epoch 17/20\n",
      " - 4s - loss: 0.1356 - acc: 0.9920 - val_loss: 0.2229 - val_acc: 0.9600\n",
      "Epoch 18/20\n",
      " - 4s - loss: 0.1349 - acc: 0.9920 - val_loss: 0.2205 - val_acc: 0.9613\n",
      "Epoch 19/20\n",
      " - 3s - loss: 0.1344 - acc: 0.9920 - val_loss: 0.2211 - val_acc: 0.9600\n",
      "Epoch 20/20\n",
      " - 4s - loss: 0.1339 - acc: 0.9920 - val_loss: 0.2220 - val_acc: 0.9613\n",
      "Final accuracy: 96.13%\n",
      "Baseline Error: 3.87%\n"
     ]
    }
   ],
   "source": [
    "#The model is fit over 10 epochs with updates every 100 images.\n",
    "\n",
    "# build the model\n",
    "model = ANN()\n",
    "# Fit the model\n",
    "hist = model.fit(X_train, Y_train, validation_data=(X_test, Y_test), epochs=15, batch_size=150, verbose=2)\n",
    "#The test data is used as the validation dataset, allowing you to see the skill of the model as it trains.\n",
    "#A verbose value of 2 is used to reduce the output to one line for each training epoch. \n",
    "#Finally, the test dataset is used to evaluate the model and a classification error rate is printed.\n",
    "\n",
    "# Final evaluation of the model\n",
    "\n",
    "scores = model.evaluate(X_test, Y_test, verbose=0)\n",
    "print(\"Final accuracy: %.2f%%\" % (scores[1]*100))\n",
    "print(\"Baseline Error: %.2f%%\" % (100-scores[1]*100))"
   ]
  },
  {
   "cell_type": "code",
   "execution_count": 47,
   "metadata": {},
   "outputs": [
    {
     "name": "stdout",
     "output_type": "stream",
     "text": [
      "Train on 2250 samples, validate on 750 samples\n",
      "Epoch 1/20\n",
      " - 14s - loss: 0.1335 - acc: 0.9920 - val_loss: 0.2187 - val_acc: 0.9613\n",
      "Epoch 2/20\n",
      " - 3s - loss: 0.1332 - acc: 0.9920 - val_loss: 0.2203 - val_acc: 0.9613\n",
      "Epoch 3/20\n",
      " - 3s - loss: 0.1328 - acc: 0.9920 - val_loss: 0.2175 - val_acc: 0.9640\n",
      "Epoch 4/20\n",
      " - 3s - loss: 0.1325 - acc: 0.9920 - val_loss: 0.2190 - val_acc: 0.9600\n",
      "Epoch 5/20\n",
      " - 3s - loss: 0.1323 - acc: 0.9920 - val_loss: 0.2176 - val_acc: 0.9640\n",
      "Epoch 6/20\n",
      " - 3s - loss: 0.1320 - acc: 0.9920 - val_loss: 0.2178 - val_acc: 0.9627\n",
      "Epoch 7/20\n",
      " - 4s - loss: 0.1319 - acc: 0.9920 - val_loss: 0.2180 - val_acc: 0.9627\n",
      "Epoch 8/20\n",
      " - 3s - loss: 0.1317 - acc: 0.9920 - val_loss: 0.2167 - val_acc: 0.9640\n",
      "Epoch 9/20\n",
      " - 3s - loss: 0.1315 - acc: 0.9920 - val_loss: 0.2159 - val_acc: 0.9640\n",
      "Epoch 10/20\n",
      " - 3s - loss: 0.1314 - acc: 0.9920 - val_loss: 0.2164 - val_acc: 0.9627\n",
      "Epoch 11/20\n",
      " - 3s - loss: 0.1312 - acc: 0.9920 - val_loss: 0.2164 - val_acc: 0.9627\n",
      "Epoch 12/20\n",
      " - 3s - loss: 0.1311 - acc: 0.9920 - val_loss: 0.2148 - val_acc: 0.9653\n",
      "Epoch 13/20\n",
      " - 4s - loss: 0.1310 - acc: 0.9920 - val_loss: 0.2164 - val_acc: 0.9627\n",
      "Epoch 14/20\n",
      " - 3s - loss: 0.1309 - acc: 0.9920 - val_loss: 0.2152 - val_acc: 0.9640\n",
      "Epoch 15/20\n",
      " - 3s - loss: 0.1308 - acc: 0.9920 - val_loss: 0.2144 - val_acc: 0.9640\n",
      "Epoch 16/20\n",
      " - 4s - loss: 0.1307 - acc: 0.9920 - val_loss: 0.2146 - val_acc: 0.9627\n",
      "Epoch 17/20\n",
      " - 3s - loss: 0.1306 - acc: 0.9920 - val_loss: 0.2145 - val_acc: 0.9640\n",
      "Epoch 18/20\n",
      " - 4s - loss: 0.1305 - acc: 0.9920 - val_loss: 0.2134 - val_acc: 0.9640\n",
      "Epoch 19/20\n",
      " - 4s - loss: 0.1305 - acc: 0.9920 - val_loss: 0.2143 - val_acc: 0.9640\n",
      "Epoch 20/20\n",
      " - 3s - loss: 0.1304 - acc: 0.9920 - val_loss: 0.2133 - val_acc: 0.9640\n",
      "Final accuracy: 96.40%\n",
      "Baseline Error: 3.60%\n"
     ]
    }
   ],
   "source": [
    "#The model is fit over 10 epochs with updates every 100 images.\n",
    "\n",
    "# build the model\n",
    "model_2 = ANN_2()\n",
    "# Fit the model\n",
    "hist_2 = model.fit(X_train, Y_train, validation_data=(X_test, Y_test), epochs=15, batch_size=100, verbose=2)\n",
    "#The test data is used as the validation dataset, allowing you to see the skill of the model as it trains.\n",
    "#A verbose value of 2 is used to reduce the output to one line for each training epoch. \n",
    "#Finally, the test dataset is used to evaluate the model and a classification error rate is printed.\n",
    "\n",
    "# Final evaluation of the model\n",
    "\n",
    "scores = model.evaluate(X_test, Y_test, verbose=0)\n",
    "print(\"Final accuracy: %.2f%%\" % (scores[1]*100))\n",
    "print(\"Baseline Error: %.2f%%\" % (100-scores[1]*100))"
   ]
  },
  {
   "cell_type": "markdown",
   "metadata": {},
   "source": [
    "#### Use the model for prediction on another dataset"
   ]
  },
  {
   "cell_type": "code",
   "execution_count": 60,
   "metadata": {},
   "outputs": [],
   "source": [
    "X_val, Y_val = Image.load_images(\"data_old\", flatten=True)\n",
    "X_val = X_val.astype('float32') / 255\n",
    "Y_val = np_utils.to_categorical(Y_val)"
   ]
  },
  {
   "cell_type": "code",
   "execution_count": 61,
   "metadata": {},
   "outputs": [],
   "source": [
    "Y_predict = model.predict(X_val)\n",
    "Y_predict_2 = model_2.predict(X_val)"
   ]
  },
  {
   "cell_type": "code",
   "execution_count": 64,
   "metadata": {},
   "outputs": [
    {
     "name": "stdout",
     "output_type": "stream",
     "text": [
      "Accuracy with the 1st model : 49.83%\n",
      "Accuracy with the 2nd model : 17.87%\n"
     ]
    }
   ],
   "source": [
    "accuracy = sum(Y_predict.argmax(axis=1) == Y_val.argmax(axis=1)) / Y_val.shape[0]\n",
    "accuracy_2 = sum(Y_predict_2.argmax(axis=1) == Y_val.argmax(axis=1)) / Y_val.shape[0]\n",
    "print(\"Accuracy with the 1st model : %.2f%%\" % (accuracy*100))\n",
    "print(\"Accuracy with the 2nd model : %.2f%%\" % (accuracy_2*100))"
   ]
  },
  {
   "cell_type": "code",
   "execution_count": null,
   "metadata": {},
   "outputs": [],
   "source": []
  },
  {
   "cell_type": "markdown",
   "metadata": {},
   "source": [
    "#### Graphics"
   ]
  },
  {
   "cell_type": "code",
   "execution_count": 67,
   "metadata": {},
   "outputs": [
    {
     "data": {
      "image/png": "[encoded data removed]",
      "text/plain": [
       "<Figure size 1080x504 with 2 Axes>"
      ]
     },
     "metadata": {},
     "output_type": "display_data"
    }
   ],
   "source": [
    "fig = plt.figure(figsize=(15, 7))\n",
    "ax1 = fig.add_subplot(1, 2, 1)\n",
    "ax2 = fig.add_subplot(1, 2, 2)\n",
    "\n",
    "ax1.plot(hist.history['acc'], label='Acc.')\n",
    "ax1.plot(hist.history['val_acc'], label='Validation acc.')\n",
    "ax1.axhline(accuracy, ls='--', c='r', label='Test acc.')\n",
    "ax1.set_ylim([0,1])\n",
    "ax1.set_xlabel('Training step')\n",
    "ax1.set_ylabel('Accuracy')\n",
    "ax1.set_title('ANN with 1 hidden layer')\n",
    "ax1.legend()\n",
    "\n",
    "ax2.plot(hist_2.history['acc'], label='acc')\n",
    "ax2.plot(hist_2.history['val_acc'], label='Validation acc.')\n",
    "ax2.axhline(accuracy_2, ls='--', c='r', label='Test acc.')\n",
    "ax2.set_ylim([0,1])\n",
    "ax2.set_xlabel('Training step')\n",
    "ax2.set_ylabel('Accuracy')\n",
    "ax2.set_title('ANN with 2 hidden layer')\n",
    "ax2.legend()\n",
    "\n",
    "plt.show()"
   ]
  },
  {
   "cell_type": "code",
   "execution_count": null,
   "metadata": {},
   "outputs": [],
   "source": []
  },
  {
   "cell_type": "code",
   "execution_count": null,
   "metadata": {},
   "outputs": [],
   "source": []
  },
  {
   "cell_type": "code",
   "execution_count": 10,
   "metadata": {},
   "outputs": [
    {
     "data": {
      "text/plain": [
       "<function matplotlib.pyplot.show(*args, **kw)>"
      ]
     },
     "execution_count": 10,
     "metadata": {},
     "output_type": "execute_result"
    },
    {
     "data": {
      "image/png": "[encoded data removed]",
      "text/plain": [
       "<Figure size 432x288 with 1 Axes>"
      ]
     },
     "metadata": {},
     "output_type": "display_data"
    }
   ],
   "source": [
    "plt.imshow(np.reshape(X_val[0], (50, 50)), cmap=plt.get_cmap('gray'))\n",
    "plt.show"
   ]
  },
  {
   "cell_type": "code",
   "execution_count": null,
   "metadata": {},
   "outputs": [],
   "source": []
  },
  {
   "cell_type": "code",
   "execution_count": null,
   "metadata": {},
   "outputs": [],
   "source": []
  },
  {
   "cell_type": "code",
   "execution_count": null,
   "metadata": {},
   "outputs": [],
   "source": [
    "for i in range(len(classes)):\n",
    "    predict = np.argmax(classes[i])\n",
    "    real = np.argmax(Y_test[i])\n",
    "    if predict!= real:\n",
    "        print(\"pred : {}\\treal : {}\".format(predict, real))"
   ]
  }
 ],
 "metadata": {
  "kernelspec": {
   "display_name": "Python 3",
   "language": "python",
   "name": "python3"
  },
  "language_info": {
   "codemirror_mode": {
    "name": "ipython",
    "version": 3
   },
   "file_extension": ".py",
   "mimetype": "text/x-python",
   "name": "python",
   "nbconvert_exporter": "python",
   "pygments_lexer": "ipython3",
   "version": "3.6.5"
  }
 },
 "nbformat": 4,
 "nbformat_minor": 2
}
