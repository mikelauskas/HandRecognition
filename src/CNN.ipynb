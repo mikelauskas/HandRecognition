{
 "cells": [
  {
   "cell_type": "code",
   "execution_count": 1,
   "metadata": {},
   "outputs": [
    {
     "name": "stderr",
     "output_type": "stream",
     "text": [
      "C:\\Users\\Florian\\Anaconda3\\lib\\site-packages\\h5py\\__init__.py:36: FutureWarning: Conversion of the second argument of issubdtype from `float` to `np.floating` is deprecated. In future, it will be treated as `np.float64 == np.dtype(float).type`.\n",
      "  from ._conv import register_converters as _register_converters\n",
      "Using TensorFlow backend.\n"
     ]
    }
   ],
   "source": [
    "from image import Image\n",
    "\n",
    "import numpy as np\n",
    "import matplotlib.pyplot as plt\n",
    "\n",
    "from keras.models import Sequential\n",
    "from keras.layers import Dense, Conv2D, MaxPooling2D, Flatten, Dropout, MaxPool2D\n",
    "from keras.utils import np_utils\n",
    "from keras.callbacks import EarlyStopping, ModelCheckpoint\n",
    "\n",
    "from tensorflow.python.client import device_lib\n",
    "import tensorflow as tf\n",
    "\n",
    "from sklearn.model_selection import train_test_split"
   ]
  },
  {
   "cell_type": "markdown",
   "metadata": {},
   "source": [
    "#### Load images and labels, split the train and test datasets"
   ]
  },
  {
   "cell_type": "code",
   "execution_count": 2,
   "metadata": {},
   "outputs": [],
   "source": [
    "images, labels = Image.load_images(\"data\", flatten=False)"
   ]
  },
  {
   "cell_type": "code",
   "execution_count": 3,
   "metadata": {},
   "outputs": [],
   "source": [
    "X_train, X_test, Y_train, Y_test = train_test_split(images, labels, random_state=10, shuffle=True, test_size=.25)"
   ]
  },
  {
   "cell_type": "markdown",
   "metadata": {},
   "source": [
    "#### Normalize the data and transform labels into categorical values"
   ]
  },
  {
   "cell_type": "code",
   "execution_count": 4,
   "metadata": {},
   "outputs": [],
   "source": [
    "X_train = X_train.astype('float32') / 255\n",
    "X_test = X_test.astype('float32') / 255"
   ]
  },
  {
   "cell_type": "code",
   "execution_count": 5,
   "metadata": {},
   "outputs": [],
   "source": [
    "Y_train = np_utils.to_categorical(Y_train)\n",
    "Y_test = np_utils.to_categorical(Y_test)"
   ]
  },
  {
   "cell_type": "code",
   "execution_count": 9,
   "metadata": {},
   "outputs": [],
   "source": [
    "dim_img = X_train.shape[1:]\n",
    "num_classes = Y_test.shape[1]"
   ]
  },
  {
   "cell_type": "markdown",
   "metadata": {},
   "source": [
    "#### Build the model"
   ]
  },
  {
   "cell_type": "code",
   "execution_count": 12,
   "metadata": {},
   "outputs": [],
   "source": [
    "def CNN(dim_img, num_classes):\n",
    "    model = Sequential()\n",
    "    model.add(Conv2D(4, (3, 3), input_shape=dim_img, padding='same', activation='relu'))\n",
    "    model.add(MaxPool2D((2,2)))\n",
    "    model.add(Conv2D(8, (3, 3), padding='same', activation='relu'))\n",
    "    model.add(MaxPool2D((2,2)))\n",
    "    model.add(Flatten())\n",
    "    model.add(Dense(100, activation='relu'))\n",
    "    model.add(Dropout(.5))\n",
    "    model.add(Dense(num_classes, activation='softmax'))\n",
    "\n",
    "    model.compile(optimizer='adam', loss='categorical_crossentropy', metrics=['accuracy'])\n",
    "    \n",
    "    return model"
   ]
  },
  {
   "cell_type": "code",
   "execution_count": 25,
   "metadata": {},
   "outputs": [
    {
     "name": "stdout",
     "output_type": "stream",
     "text": [
      "Train on 2250 samples, validate on 750 samples\n",
      "Epoch 1/15\n",
      " - 38s - loss: 1.6872 - acc: 0.3293 - val_loss: 1.4725 - val_acc: 0.5653\n",
      "Epoch 2/15\n",
      " - 2s - loss: 1.3534 - acc: 0.5147 - val_loss: 1.0906 - val_acc: 0.6653\n",
      "Epoch 3/15\n",
      " - 2s - loss: 1.0555 - acc: 0.6187 - val_loss: 0.8028 - val_acc: 0.7453\n",
      "Epoch 4/15\n",
      " - 2s - loss: 0.7941 - acc: 0.7182 - val_loss: 0.5974 - val_acc: 0.8027\n",
      "Epoch 5/15\n",
      " - 2s - loss: 0.6185 - acc: 0.7827 - val_loss: 0.4637 - val_acc: 0.8707\n",
      "Epoch 6/15\n",
      " - 2s - loss: 0.5258 - acc: 0.8222 - val_loss: 0.3742 - val_acc: 0.8773\n",
      "Epoch 7/15\n",
      " - 2s - loss: 0.4386 - acc: 0.8524 - val_loss: 0.3024 - val_acc: 0.9133\n",
      "Epoch 8/15\n",
      " - 3s - loss: 0.3772 - acc: 0.8676 - val_loss: 0.2444 - val_acc: 0.9387\n",
      "Epoch 9/15\n",
      " - 3s - loss: 0.3311 - acc: 0.8907 - val_loss: 0.2192 - val_acc: 0.9413\n",
      "Epoch 10/15\n",
      " - 2s - loss: 0.2976 - acc: 0.8924 - val_loss: 0.1925 - val_acc: 0.9547\n",
      "Epoch 11/15\n",
      " - 3s - loss: 0.2521 - acc: 0.9169 - val_loss: 0.1657 - val_acc: 0.9587\n",
      "Epoch 12/15\n",
      " - 3s - loss: 0.2146 - acc: 0.9324 - val_loss: 0.1510 - val_acc: 0.9587\n",
      "Epoch 13/15\n",
      " - 3s - loss: 0.2097 - acc: 0.9289 - val_loss: 0.1269 - val_acc: 0.9693\n",
      "Epoch 14/15\n",
      " - 3s - loss: 0.1985 - acc: 0.9400 - val_loss: 0.1228 - val_acc: 0.9627\n",
      "Epoch 15/15\n",
      " - 3s - loss: 0.1762 - acc: 0.9440 - val_loss: 0.1109 - val_acc: 0.9693\n",
      "Final accuracy: 96.93%\n",
      "Baseline Error: 3.07%\n"
     ]
    }
   ],
   "source": [
    "#The model is fit over 10 epochs with updates every 100 images.\n",
    "\n",
    "# build the model\n",
    "model = CNN(dim_img, num_classes)\n",
    "# Fit the model\n",
    "hist = model.fit(X_train, Y_train, epochs=15, batch_size=150, validation_data=(X_test, Y_test), verbose=2)\n",
    "#The test data is used as the validation dataset, allowing you to see the skill of the model as it trains.\n",
    "#A verbose value of 2 is used to reduce the output to one line for each training epoch. \n",
    "#Finally, the test dataset is used to evaluate the model and a classification error rate is printed.\n",
    "\n",
    "# Final evaluation of the model\n",
    "\n",
    "scores = model.evaluate(X_test, Y_test, verbose=0)\n",
    "print(\"Final accuracy: %.2f%%\" % (scores[1]*100))\n",
    "print(\"Baseline Error: %.2f%%\" % (100-scores[1]*100))"
   ]
  },
  {
   "cell_type": "markdown",
   "metadata": {},
   "source": [
    "#### Use the model for prediction on another data set"
   ]
  },
  {
   "cell_type": "code",
   "execution_count": 22,
   "metadata": {},
   "outputs": [],
   "source": [
    "X_val, Y_val = Image.load_images(\"data_old\", flatten=False)\n",
    "X_val = X_val.astype('float32') / 255\n",
    "Y_val = np_utils.to_categorical(Y_val)"
   ]
  },
  {
   "cell_type": "code",
   "execution_count": 27,
   "metadata": {},
   "outputs": [],
   "source": [
    "Y_predict = model.predict(X_val)\n"
   ]
  },
  {
   "cell_type": "code",
   "execution_count": 28,
   "metadata": {},
   "outputs": [
    {
     "name": "stdout",
     "output_type": "stream",
     "text": [
      "Accuracy with the 1st model : 59.45%\n"
     ]
    }
   ],
   "source": [
    "accuracy = sum(Y_predict.argmax(axis=1) == Y_val.argmax(axis=1)) / Y_val.shape[0]\n",
    "print(\"Accuracy with the 1st model : %.2f%%\" % (accuracy*100))\n"
   ]
  },
  {
   "cell_type": "code",
   "execution_count": null,
   "metadata": {},
   "outputs": [],
   "source": []
  },
  {
   "cell_type": "code",
   "execution_count": null,
   "metadata": {},
   "outputs": [],
   "source": []
  },
  {
   "cell_type": "code",
   "execution_count": null,
   "metadata": {},
   "outputs": [],
   "source": []
  },
  {
   "cell_type": "markdown",
   "metadata": {},
   "source": [
    "#### Graphics"
   ]
  },
  {
   "cell_type": "code",
   "execution_count": 30,
   "metadata": {},
   "outputs": [
    {
     "data": {
      "image/png": "[encoded data removed]",
      "text/plain": [
       "<Figure size 1080x504 with 2 Axes>"
      ]
     },
     "metadata": {},
     "output_type": "display_data"
    }
   ],
   "source": [
    "fig = plt.figure(figsize=(15, 7))\n",
    "ax1 = fig.add_subplot(1, 2, 1)\n",
    "ax2 = fig.add_subplot(1, 2, 2)\n",
    "\n",
    "ax1.plot(hist.history['acc'], label='Acc.')\n",
    "ax1.plot(hist.history['val_acc'], label='Validation acc.')\n",
    "ax1.axhline(accuracy, ls='--', c='r', label='Test acc.')\n",
    "ax1.set_ylim([0,1])\n",
    "ax1.set_xlabel('Training step')\n",
    "ax1.set_ylabel('Accuracy')\n",
    "ax1.set_title('CNN with black and white pictures')\n",
    "ax1.legend()\n",
    "\n",
    "\n",
    "plt.show()"
   ]
  },
  {
   "cell_type": "code",
   "execution_count": 16,
   "metadata": {},
   "outputs": [],
   "source": [
    "X_val, Y_val = Image.load_images(\"data_old\", flatten=False)\n",
    "X_val = X_val.astype('float32') / 255\n",
    "Y_val = np_utils.to_categorical(Y_val)"
   ]
  },
  {
   "cell_type": "code",
   "execution_count": 17,
   "metadata": {},
   "outputs": [],
   "source": [
    "Y_predict = model.predict(X_val, batch_size=128)"
   ]
  },
  {
   "cell_type": "code",
   "execution_count": 18,
   "metadata": {},
   "outputs": [
    {
     "data": {
      "text/plain": [
       "0.41580756013745707"
      ]
     },
     "execution_count": 18,
     "metadata": {},
     "output_type": "execute_result"
    }
   ],
   "source": [
    "sum(Y_predict.argmax(axis=1) == Y_val.argmax(axis=1)) / Y_val.shape[0]"
   ]
  },
  {
   "cell_type": "code",
   "execution_count": null,
   "metadata": {},
   "outputs": [],
   "source": []
  },
  {
   "cell_type": "code",
   "execution_count": null,
   "metadata": {},
   "outputs": [],
   "source": []
  },
  {
   "cell_type": "code",
   "execution_count": null,
   "metadata": {},
   "outputs": [],
   "source": []
  },
  {
   "cell_type": "code",
   "execution_count": null,
   "metadata": {},
   "outputs": [],
   "source": []
  },
  {
   "cell_type": "code",
   "execution_count": null,
   "metadata": {},
   "outputs": [],
   "source": []
  },
  {
   "cell_type": "code",
   "execution_count": null,
   "metadata": {},
   "outputs": [],
   "source": []
  },
  {
   "cell_type": "code",
   "execution_count": null,
   "metadata": {},
   "outputs": [],
   "source": []
  },
  {
   "cell_type": "code",
   "execution_count": null,
   "metadata": {},
   "outputs": [],
   "source": []
  },
  {
   "cell_type": "code",
   "execution_count": null,
   "metadata": {},
   "outputs": [],
   "source": []
  },
  {
   "cell_type": "code",
   "execution_count": null,
   "metadata": {},
   "outputs": [],
   "source": []
  },
  {
   "cell_type": "code",
   "execution_count": null,
   "metadata": {},
   "outputs": [],
   "source": []
  },
  {
   "cell_type": "code",
   "execution_count": null,
   "metadata": {},
   "outputs": [],
   "source": []
  },
  {
   "cell_type": "code",
   "execution_count": null,
   "metadata": {},
   "outputs": [],
   "source": []
  },
  {
   "cell_type": "code",
   "execution_count": null,
   "metadata": {},
   "outputs": [],
   "source": []
  },
  {
   "cell_type": "code",
   "execution_count": null,
   "metadata": {},
   "outputs": [],
   "source": []
  },
  {
   "cell_type": "code",
   "execution_count": null,
   "metadata": {},
   "outputs": [],
   "source": []
  }
 ],
 "metadata": {
  "kernelspec": {
   "display_name": "Python 3",
   "language": "python",
   "name": "python3"
  },
  "language_info": {
   "codemirror_mode": {
    "name": "ipython",
    "version": 3
   },
   "file_extension": ".py",
   "mimetype": "text/x-python",
   "name": "python",
   "nbconvert_exporter": "python",
   "pygments_lexer": "ipython3",
   "version": "3.6.5"
  }
 },
 "nbformat": 4,
 "nbformat_minor": 2
}
