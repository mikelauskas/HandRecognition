{
 "cells": [
  {
   "cell_type": "code",
   "execution_count": null,
   "metadata": {},
   "outputs": [],
   "source": [
    "from image import Image\n",
    "\n",
    "import matplotlib.pyplot as plt"
   ]
  },
  {
   "cell_type": "code",
   "execution_count": null,
   "metadata": {},
   "outputs": [],
   "source": [
    "#\n",
    "# Press B to select a background.\n",
    "# Press 0, 1, 2, 3, 4 or 5 to select the label of the images.\n",
    "# Press S to save the image in rgb and in b&w.\n",
    "# Press SPACE to start a series of snapshots. The pictures are saved in rgb and in b&w.\n",
    "# Press R or L to move the capture window (red_square) to the right or the left.\n",
    "# Press P or M to increase or decrease the width of the red square\n",
    "#"
   ]
  },
  {
   "cell_type": "code",
   "execution_count": null,
   "metadata": {},
   "outputs": [],
   "source": [
    "# parameters of captureBW_interface\n",
    "path='data'      # path to the folder where to solve the data\n",
    "x1=150           # x coordinate of the upper left corner of the red box\n",
    "y1=100           # y coordinate of the upper left corner of the red box\n",
    "width=300        # width of the red box\n",
    "resize=True      # resize the pictures in 50x50\n",
    "nb_shots=50      # number of pictures taken after pressing SPACE\n",
    "per_frame=3      # number of frame between each snapshot"
   ]
  },
  {
   "cell_type": "code",
   "execution_count": null,
   "metadata": {},
   "outputs": [],
   "source": [
    "Image.captureBW_interface(path, x1, y1, width, resize, nb_shots, per_frame)"
   ]
  }
 ],
 "metadata": {
  "kernelspec": {
   "display_name": "Python 3",
   "language": "python",
   "name": "python3"
  },
  "language_info": {
   "codemirror_mode": {
    "name": "ipython",
    "version": 3
   },
   "file_extension": ".py",
   "mimetype": "text/x-python",
   "name": "python",
   "nbconvert_exporter": "python",
   "pygments_lexer": "ipython3",
   "version": "3.6.5"
  }
 },
 "nbformat": 4,
 "nbformat_minor": 2
}
