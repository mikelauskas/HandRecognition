{
 "cells": [
  {
   "cell_type": "markdown",
   "metadata": {},
   "source": [
    "# Tools for collecting the data"
   ]
  },
  {
   "cell_type": "code",
   "execution_count": null,
   "metadata": {},
   "outputs": [],
   "source": [
    "# This jupyter notebook allows to collect and save data. \n",
    "# The first function allows us to take pictures and save them in b&w.\n",
    "# The second function allows to take a picture and return it directly in b&w.\n",
    "\n",
    "# Requirements:\n",
    "# !pip install opencv-python"
   ]
  },
  {
   "cell_type": "code",
   "execution_count": 1,
   "metadata": {},
   "outputs": [],
   "source": [
    "from image import Image"
   ]
  },
  {
   "cell_type": "code",
   "execution_count": null,
   "metadata": {},
   "outputs": [],
   "source": []
  },
  {
   "cell_type": "code",
   "execution_count": 2,
   "metadata": {},
   "outputs": [],
   "source": [
    "# parameters of captureBW_interface\n",
    "path='data'      # path to the folder where to save the data\n",
    "x1=150           # x coordinate of the upper left corner of the red box\n",
    "y1=100           # y coordinate of the upper left corner of the red box\n",
    "width=300        # width of the red box\n",
    "resize=True      # resize the pictures in 50x50\n",
    "nb_shots=50      # number of pictures taken after pressing SPACE\n",
    "per_frame=3      # number of frame between each snapshot"
   ]
  },
  {
   "cell_type": "code",
   "execution_count": 3,
   "metadata": {},
   "outputs": [
    {
     "name": "stdout",
     "output_type": "stream",
     "text": [
      "bw_-1_0.png and frm_-1_0.png written!\n",
      "bw_-1_1.png and frm_-1_1.png written!\n",
      "bw_-1_2.png and frm_-1_2.png written!\n",
      "bw_-1_3.png and frm_-1_3.png written!\n",
      "bw_-1_4.png and frm_-1_4.png written!\n",
      "bw_-1_5.png and frm_-1_5.png written!\n",
      "bw_-1_6.png and frm_-1_6.png written!\n",
      "bw_-1_7.png and frm_-1_7.png written!\n",
      "bw_-1_8.png and frm_-1_8.png written!\n",
      "bw_-1_9.png and frm_-1_9.png written!\n",
      "bw_-1_10.png and frm_-1_10.png written!\n",
      "bw_-1_11.png and frm_-1_11.png written!\n",
      "bw_-1_12.png and frm_-1_12.png written!\n",
      "bw_-1_13.png and frm_-1_13.png written!\n",
      "bw_-1_14.png and frm_-1_14.png written!\n",
      "bw_-1_15.png and frm_-1_15.png written!\n",
      "bw_-1_16.png and frm_-1_16.png written!\n",
      "bw_-1_17.png and frm_-1_17.png written!\n",
      "bw_-1_18.png and frm_-1_18.png written!\n",
      "bw_-1_19.png and frm_-1_19.png written!\n",
      "bw_-1_20.png and frm_-1_20.png written!\n",
      "bw_-1_21.png and frm_-1_21.png written!\n",
      "bw_-1_22.png and frm_-1_22.png written!\n",
      "bw_-1_23.png and frm_-1_23.png written!\n",
      "bw_-1_24.png and frm_-1_24.png written!\n",
      "bw_-1_25.png and frm_-1_25.png written!\n",
      "bw_-1_26.png and frm_-1_26.png written!\n",
      "bw_-1_27.png and frm_-1_27.png written!\n",
      "bw_-1_28.png and frm_-1_28.png written!\n",
      "bw_-1_29.png and frm_-1_29.png written!\n",
      "bw_-1_30.png and frm_-1_30.png written!\n",
      "bw_-1_31.png and frm_-1_31.png written!\n",
      "bw_-1_32.png and frm_-1_32.png written!\n",
      "bw_-1_33.png and frm_-1_33.png written!\n",
      "bw_-1_34.png and frm_-1_34.png written!\n",
      "bw_-1_35.png and frm_-1_35.png written!\n",
      "bw_-1_36.png and frm_-1_36.png written!\n",
      "bw_-1_37.png and frm_-1_37.png written!\n",
      "bw_-1_38.png and frm_-1_38.png written!\n",
      "bw_-1_39.png and frm_-1_39.png written!\n",
      "bw_-1_40.png and frm_-1_40.png written!\n",
      "bw_-1_41.png and frm_-1_41.png written!\n",
      "bw_-1_42.png and frm_-1_42.png written!\n",
      "bw_-1_43.png and frm_-1_43.png written!\n",
      "bw_-1_44.png and frm_-1_44.png written!\n",
      "bw_-1_45.png and frm_-1_45.png written!\n",
      "bw_-1_46.png and frm_-1_46.png written!\n",
      "bw_-1_47.png and frm_-1_47.png written!\n",
      "bw_-1_48.png and frm_-1_48.png written!\n",
      "bw_-1_49.png and frm_-1_49.png written!\n",
      "Escape hit, closing...\n"
     ]
    }
   ],
   "source": [
    "# Collect and save\n",
    "\n",
    "# Commands:\n",
    "#\n",
    "# Press B to select a background.\n",
    "# Press 0, 1, 2, 3, 4 or 5 to select the label of the images.\n",
    "# Press S to save the image in rgb and in b&w.\n",
    "# Press SPACE to start a series of snapshots. The pictures are saved in rgb and in b&w.\n",
    "# Press R or L to move the capture window (red_square) to the right or the left.\n",
    "# Press P or M to increase or decrease the width of the red square\n",
    "# Press ESC to close the window.\n",
    "\n",
    "Image.captureBW_interface(path, x1, y1, width, resize, nb_shots, per_frame)"
   ]
  },
  {
   "cell_type": "code",
   "execution_count": 4,
   "metadata": {},
   "outputs": [],
   "source": [
    "# Collect and return\n",
    "\n",
    "# Commands:\n",
    "#\n",
    "# Press B to select a background.\n",
    "# Press SPACE to collect an image in b&w. The image will be returned after exiting.\n",
    "# Press R or L to move the capture window (red_square) to the right or the left.\n",
    "# Press P or M to increase or decrease the width of the red square\n",
    "# Press ESC to close the window.\n",
    "\n",
    "img = Image.captureImage()\n",
    "plt.imshow(img, cmap=plt.get_cmap('gray'))\n",
    "plt.show()"
   ]
  }
 ],
 "metadata": {
  "kernelspec": {
   "display_name": "Python 3",
   "language": "python",
   "name": "python3"
  },
  "language_info": {
   "codemirror_mode": {
    "name": "ipython",
    "version": 3
   },
   "file_extension": ".py",
   "mimetype": "text/x-python",
   "name": "python",
   "nbconvert_exporter": "python",
   "pygments_lexer": "ipython3",
   "version": "3.6.5"
  }
 },
 "nbformat": 4,
 "nbformat_minor": 2
}
